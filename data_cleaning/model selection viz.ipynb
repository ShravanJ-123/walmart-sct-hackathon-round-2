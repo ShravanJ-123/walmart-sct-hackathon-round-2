{
 "cells": [
  {
   "cell_type": "code",
   "execution_count": 1,
   "metadata": {},
   "outputs": [],
   "source": [
    "import pandas as pd\n",
    "import numpy as np"
   ]
  },
  {
   "cell_type": "code",
   "execution_count": 2,
   "metadata": {},
   "outputs": [],
   "source": [
    "from os import listdir\n",
    "from os.path import isfile, join"
   ]
  },
  {
   "cell_type": "code",
   "execution_count": 3,
   "metadata": {},
   "outputs": [
    {
     "data": {
      "text/plain": [
       "10"
      ]
     },
     "execution_count": 3,
     "metadata": {},
     "output_type": "execute_result"
    }
   ],
   "source": [
    "from os import listdir\n",
    "from os.path import isfile, join\n",
    "\n",
    "file_paths = [r\"C:\\Users\\dell 1\\Desktop\\Prediction-of-Hard-Drive-Failure-master\\short_data_Q1\"]\n",
    "\n",
    "files = []\n",
    "\n",
    "for filepath in file_paths:\n",
    "    files_1 = [f for f in listdir(filepath) if isfile(join(filepath, f))]\n",
    "    files_1 = [join(filepath, f) for f in files_1 if f.endswith(\".csv\") and f.startswith(\"202\")]\n",
    "    files.extend(files_1)\n",
    "\n",
    "len(files)\n"
   ]
  },
  {
   "cell_type": "code",
   "execution_count": 4,
   "metadata": {},
   "outputs": [],
   "source": [
    "master_df_list = []"
   ]
  },
  {
   "cell_type": "code",
   "execution_count": 5,
   "metadata": {},
   "outputs": [
    {
     "name": "stdout",
     "output_type": "stream",
     "text": [
      "C:\\Users\\dell 1\\Desktop\\Prediction-of-Hard-Drive-Failure-master\\short_data_Q1\\2023-01-01.csv added to master_list\n",
      "C:\\Users\\dell 1\\Desktop\\Prediction-of-Hard-Drive-Failure-master\\short_data_Q1\\2023-01-02.csv added to master_list\n",
      "C:\\Users\\dell 1\\Desktop\\Prediction-of-Hard-Drive-Failure-master\\short_data_Q1\\2023-01-03.csv added to master_list\n",
      "C:\\Users\\dell 1\\Desktop\\Prediction-of-Hard-Drive-Failure-master\\short_data_Q1\\2023-01-04.csv added to master_list\n",
      "C:\\Users\\dell 1\\Desktop\\Prediction-of-Hard-Drive-Failure-master\\short_data_Q1\\2023-01-05.csv added to master_list\n",
      "C:\\Users\\dell 1\\Desktop\\Prediction-of-Hard-Drive-Failure-master\\short_data_Q1\\2023-01-06.csv added to master_list\n",
      "C:\\Users\\dell 1\\Desktop\\Prediction-of-Hard-Drive-Failure-master\\short_data_Q1\\2023-01-07.csv added to master_list\n",
      "C:\\Users\\dell 1\\Desktop\\Prediction-of-Hard-Drive-Failure-master\\short_data_Q1\\2023-01-08.csv added to master_list\n",
      "C:\\Users\\dell 1\\Desktop\\Prediction-of-Hard-Drive-Failure-master\\short_data_Q1\\2023-01-09.csv added to master_list\n",
      "C:\\Users\\dell 1\\Desktop\\Prediction-of-Hard-Drive-Failure-master\\short_data_Q1\\2023-01-10.csv added to master_list\n"
     ]
    }
   ],
   "source": [
    "# iterate over each file and drop the unwanted columns\n",
    "for file_name in files:\n",
    "    data = pd.read_csv(file_name)\n",
    "    temp = data[data[\"failure\"] == 1]\n",
    "    master_df_list.append(temp[[\"serial_number\", \"model\"]])\n",
    "    print(\"{} added to master_list\".format(file_name))"
   ]
  },
  {
   "cell_type": "code",
   "execution_count": 6,
   "metadata": {},
   "outputs": [
    {
     "name": "stdout",
     "output_type": "stream",
     "text": [
      "concat started\n",
      "concat complete\n"
     ]
    },
    {
     "data": {
      "text/plain": [
       "(85, 2)"
      ]
     },
     "execution_count": 6,
     "metadata": {},
     "output_type": "execute_result"
    }
   ],
   "source": [
    "# generate a master data frame to have all the data\n",
    "print(\"concat started\")\n",
    "master_df = pd.concat(master_df_list, sort=False)\n",
    "print(\"concat complete\")\n",
    "master_df.shape"
   ]
  },
  {
   "cell_type": "code",
   "execution_count": 7,
   "metadata": {},
   "outputs": [
    {
     "data": {
      "text/html": [
       "<div>\n",
       "<style scoped>\n",
       "    .dataframe tbody tr th:only-of-type {\n",
       "        vertical-align: middle;\n",
       "    }\n",
       "\n",
       "    .dataframe tbody tr th {\n",
       "        vertical-align: top;\n",
       "    }\n",
       "\n",
       "    .dataframe thead th {\n",
       "        text-align: right;\n",
       "    }\n",
       "</style>\n",
       "<table border=\"1\" class=\"dataframe\">\n",
       "  <thead>\n",
       "    <tr style=\"text-align: right;\">\n",
       "      <th></th>\n",
       "      <th>failure count</th>\n",
       "      <th>model</th>\n",
       "    </tr>\n",
       "  </thead>\n",
       "  <tbody>\n",
       "    <tr>\n",
       "      <th>0</th>\n",
       "      <td>18</td>\n",
       "      <td>ST12000NM0008</td>\n",
       "    </tr>\n",
       "    <tr>\n",
       "      <th>1</th>\n",
       "      <td>17</td>\n",
       "      <td>ST4000DM000</td>\n",
       "    </tr>\n",
       "    <tr>\n",
       "      <th>2</th>\n",
       "      <td>13</td>\n",
       "      <td>ST8000NM0055</td>\n",
       "    </tr>\n",
       "    <tr>\n",
       "      <th>3</th>\n",
       "      <td>9</td>\n",
       "      <td>TOSHIBA MG07ACA14TA</td>\n",
       "    </tr>\n",
       "    <tr>\n",
       "      <th>4</th>\n",
       "      <td>4</td>\n",
       "      <td>ST16000NM001G</td>\n",
       "    </tr>\n",
       "    <tr>\n",
       "      <th>5</th>\n",
       "      <td>3</td>\n",
       "      <td>ST8000DM002</td>\n",
       "    </tr>\n",
       "    <tr>\n",
       "      <th>6</th>\n",
       "      <td>2</td>\n",
       "      <td>HGST HUH721212ALN604</td>\n",
       "    </tr>\n",
       "    <tr>\n",
       "      <th>7</th>\n",
       "      <td>2</td>\n",
       "      <td>ST12000NM001G</td>\n",
       "    </tr>\n",
       "    <tr>\n",
       "      <th>8</th>\n",
       "      <td>2</td>\n",
       "      <td>ST14000NM001G</td>\n",
       "    </tr>\n",
       "    <tr>\n",
       "      <th>9</th>\n",
       "      <td>2</td>\n",
       "      <td>TOSHIBA MG08ACA16TE</td>\n",
       "    </tr>\n",
       "    <tr>\n",
       "      <th>10</th>\n",
       "      <td>1</td>\n",
       "      <td>Seagate BarraCuda 120 SSD ZA250CM10003</td>\n",
       "    </tr>\n",
       "    <tr>\n",
       "      <th>11</th>\n",
       "      <td>1</td>\n",
       "      <td>WDC WD5000LPVX</td>\n",
       "    </tr>\n",
       "    <tr>\n",
       "      <th>12</th>\n",
       "      <td>1</td>\n",
       "      <td>TOSHIBA MQ01ABF050M</td>\n",
       "    </tr>\n",
       "    <tr>\n",
       "      <th>13</th>\n",
       "      <td>1</td>\n",
       "      <td>TOSHIBA MQ01ABF050</td>\n",
       "    </tr>\n",
       "    <tr>\n",
       "      <th>14</th>\n",
       "      <td>1</td>\n",
       "      <td>TOSHIBA MG08ACA16TA</td>\n",
       "    </tr>\n",
       "    <tr>\n",
       "      <th>15</th>\n",
       "      <td>1</td>\n",
       "      <td>CT250MX500SSD1</td>\n",
       "    </tr>\n",
       "    <tr>\n",
       "      <th>16</th>\n",
       "      <td>1</td>\n",
       "      <td>ST500LM030</td>\n",
       "    </tr>\n",
       "    <tr>\n",
       "      <th>17</th>\n",
       "      <td>1</td>\n",
       "      <td>HGST HUH721212ALE604</td>\n",
       "    </tr>\n",
       "    <tr>\n",
       "      <th>18</th>\n",
       "      <td>1</td>\n",
       "      <td>ST14000NM0138</td>\n",
       "    </tr>\n",
       "    <tr>\n",
       "      <th>19</th>\n",
       "      <td>1</td>\n",
       "      <td>ST14000NM0018</td>\n",
       "    </tr>\n",
       "    <tr>\n",
       "      <th>20</th>\n",
       "      <td>1</td>\n",
       "      <td>ST12000NM0007</td>\n",
       "    </tr>\n",
       "    <tr>\n",
       "      <th>21</th>\n",
       "      <td>1</td>\n",
       "      <td>ST10000NM0086</td>\n",
       "    </tr>\n",
       "    <tr>\n",
       "      <th>22</th>\n",
       "      <td>1</td>\n",
       "      <td>WDC WUH721816ALE6L4</td>\n",
       "    </tr>\n",
       "  </tbody>\n",
       "</table>\n",
       "</div>"
      ],
      "text/plain": [
       "    failure count                                   model\n",
       "0              18                           ST12000NM0008\n",
       "1              17                             ST4000DM000\n",
       "2              13                            ST8000NM0055\n",
       "3               9                     TOSHIBA MG07ACA14TA\n",
       "4               4                           ST16000NM001G\n",
       "5               3                             ST8000DM002\n",
       "6               2                    HGST HUH721212ALN604\n",
       "7               2                           ST12000NM001G\n",
       "8               2                           ST14000NM001G\n",
       "9               2                     TOSHIBA MG08ACA16TE\n",
       "10              1  Seagate BarraCuda 120 SSD ZA250CM10003\n",
       "11              1                          WDC WD5000LPVX\n",
       "12              1                     TOSHIBA MQ01ABF050M\n",
       "13              1                      TOSHIBA MQ01ABF050\n",
       "14              1                     TOSHIBA MG08ACA16TA\n",
       "15              1                          CT250MX500SSD1\n",
       "16              1                              ST500LM030\n",
       "17              1                    HGST HUH721212ALE604\n",
       "18              1                           ST14000NM0138\n",
       "19              1                           ST14000NM0018\n",
       "20              1                           ST12000NM0007\n",
       "21              1                           ST10000NM0086\n",
       "22              1                     WDC WUH721816ALE6L4"
      ]
     },
     "execution_count": 7,
     "metadata": {},
     "output_type": "execute_result"
    }
   ],
   "source": [
    "count_df = master_df.groupby([\"model\"]).agg({'model':'count'})\n",
    "count_df.columns = [\"failure count\"]\n",
    "count_df['model'] = count_df.index\n",
    "count_df = count_df.sort_values(by=\"failure count\", ascending=False)\n",
    "count_df.reset_index(drop=True, inplace=True)\n",
    "count_df"
   ]
  },
  {
   "cell_type": "code",
   "execution_count": 8,
   "metadata": {},
   "outputs": [],
   "source": [
    "count_df.to_csv(\"failed_count2.csv\")"
   ]
  }
 ],
 "metadata": {
  "kernelspec": {
   "display_name": "Python 3 (ipykernel)",
   "language": "python",
   "name": "python3"
  },
  "language_info": {
   "codemirror_mode": {
    "name": "ipython",
    "version": 3
   },
   "file_extension": ".py",
   "mimetype": "text/x-python",
   "name": "python",
   "nbconvert_exporter": "python",
   "pygments_lexer": "ipython3",
   "version": "3.12.2"
  }
 },
 "nbformat": 4,
 "nbformat_minor": 4
}
