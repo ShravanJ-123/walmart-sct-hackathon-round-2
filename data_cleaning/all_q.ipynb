{
 "cells": [
  {
   "cell_type": "code",
   "execution_count": 45,
   "metadata": {},
   "outputs": [],
   "source": [
    "import pandas as pd\n",
    "import numpy as np"
   ]
  },
  {
   "cell_type": "code",
   "execution_count": 46,
   "metadata": {},
   "outputs": [],
   "source": [
    "from os import listdir\n",
    "from os.path import isfile, join"
   ]
  },
  {
   "cell_type": "code",
   "execution_count": 47,
   "metadata": {},
   "outputs": [
    {
     "data": {
      "text/plain": [
       "10"
      ]
     },
     "execution_count": 47,
     "metadata": {},
     "output_type": "execute_result"
    }
   ],
   "source": [
    "from os import listdir\n",
    "from os.path import isfile, join\n",
    "\n",
    "file_paths = [r\"C:\\Users\\dell 1\\Desktop\\Prediction-of-Hard-Drive-Failure-master\\short_data_Q1\"]\n",
    "\n",
    "files = []\n",
    "\n",
    "for filepath in file_paths:\n",
    "    files_1 = [f for f in listdir(filepath) if isfile(join(filepath, f))]\n",
    "    files_1 = [join(filepath, f) for f in files_1 if f.endswith(\".csv\") and f.startswith(\"202\")]\n",
    "    files.extend(files_1)\n",
    "\n",
    "len(files)\n"
   ]
  },
  {
   "cell_type": "markdown",
   "metadata": {},
   "source": [
    "# SET MODEL NUMBER HERE"
   ]
  },
  {
   "cell_type": "code",
   "execution_count": 48,
   "metadata": {},
   "outputs": [],
   "source": [
    "# set the model name here \n",
    "model_name = \"ST12000NM0007\"\n",
    "# model_name = \"ST4000DM000\"\n",
    "# model_name = \"ST8000NM0055\"\n",
    "# model_name = \"ST8000DM002\"\n",
    "# model_name = \"TOSHIBA MQ01ABF050\"\n",
    "# model_name = \"ST500LM012 HN\"\n",
    "# model_name = \"HGST HMS5C4040BLE640\""
   ]
  },
  {
   "cell_type": "markdown",
   "metadata": {},
   "source": [
    "# RAW DATA"
   ]
  },
  {
   "cell_type": "code",
   "execution_count": 49,
   "metadata": {},
   "outputs": [
    {
     "data": {
      "text/plain": [
       "(235597, 179)"
      ]
     },
     "execution_count": 49,
     "metadata": {},
     "output_type": "execute_result"
    }
   ],
   "source": [
    "# put all the dataframes into a list \n",
    "master_df_list = []\n",
    "\n",
    "data = pd.read_csv(files[0])\n",
    "data.shape"
   ]
  },
  {
   "cell_type": "code",
   "execution_count": 50,
   "metadata": {},
   "outputs": [],
   "source": [
    "# determine all the columns that have to be dropped by default\n",
    "def drop_column_names():\n",
    "    data = pd.read_csv(files[0])\n",
    "    drop_columns = []\n",
    "    for i in data.columns:\n",
    "        if \"normalized\" in i:\n",
    "            drop_columns.append(i)     \n",
    "    return drop_columns"
   ]
  },
  {
   "cell_type": "code",
   "execution_count": 51,
   "metadata": {},
   "outputs": [],
   "source": [
    "# columns that have to be dropped\n",
    "drop_names = drop_column_names()"
   ]
  },
  {
   "cell_type": "code",
   "execution_count": 52,
   "metadata": {},
   "outputs": [
    {
     "name": "stdout",
     "output_type": "stream",
     "text": [
      "C:\\Users\\dell 1\\Desktop\\Prediction-of-Hard-Drive-Failure-master\\short_data_Q1\\2023-01-01.csv added to master_list\n",
      "C:\\Users\\dell 1\\Desktop\\Prediction-of-Hard-Drive-Failure-master\\short_data_Q1\\2023-01-02.csv added to master_list\n",
      "C:\\Users\\dell 1\\Desktop\\Prediction-of-Hard-Drive-Failure-master\\short_data_Q1\\2023-01-03.csv added to master_list\n",
      "C:\\Users\\dell 1\\Desktop\\Prediction-of-Hard-Drive-Failure-master\\short_data_Q1\\2023-01-04.csv added to master_list\n",
      "C:\\Users\\dell 1\\Desktop\\Prediction-of-Hard-Drive-Failure-master\\short_data_Q1\\2023-01-05.csv added to master_list\n",
      "C:\\Users\\dell 1\\Desktop\\Prediction-of-Hard-Drive-Failure-master\\short_data_Q1\\2023-01-06.csv added to master_list\n",
      "C:\\Users\\dell 1\\Desktop\\Prediction-of-Hard-Drive-Failure-master\\short_data_Q1\\2023-01-07.csv added to master_list\n",
      "C:\\Users\\dell 1\\Desktop\\Prediction-of-Hard-Drive-Failure-master\\short_data_Q1\\2023-01-08.csv added to master_list\n",
      "C:\\Users\\dell 1\\Desktop\\Prediction-of-Hard-Drive-Failure-master\\short_data_Q1\\2023-01-09.csv added to master_list\n",
      "C:\\Users\\dell 1\\Desktop\\Prediction-of-Hard-Drive-Failure-master\\short_data_Q1\\2023-01-10.csv added to master_list\n"
     ]
    }
   ],
   "source": [
    "# iterate over each file and drop the unwanted columns\n",
    "for file_name in files:\n",
    "    data = pd.read_csv(file_name)\n",
    "    data.drop(drop_names, axis = 1, inplace=True)\n",
    "    data = data[data[\"model\"] == model_name]\n",
    "    master_df_list.append(data.copy())\n",
    "    print(\"{} added to master_list\".format(file_name))"
   ]
  },
  {
   "cell_type": "code",
   "execution_count": 53,
   "metadata": {},
   "outputs": [
    {
     "name": "stdout",
     "output_type": "stream",
     "text": [
      "concat started\n",
      "concat complete\n",
      "ST8000NM0055 ::: original column count : 92\n"
     ]
    }
   ],
   "source": [
    "# generate a master data frame to have all the data\n",
    "print(\"concat started\")\n",
    "master_df = pd.concat(master_df_list, sort=False)\n",
    "print(\"concat complete\")\n",
    "master_df.shape\n",
    "print(\"{} ::: original column count : {}\".format(model_name, master_df.shape[1]))"
   ]
  },
  {
   "cell_type": "code",
   "execution_count": 54,
   "metadata": {},
   "outputs": [],
   "source": [
    "# data cleaning operations\n",
    "def data_cleaning(model_name):\n",
    "    # model_1 = master_df[master_df[\"model\"] == model_name]\n",
    "    \n",
    "    # drop all columns that are only NaN\n",
    "    # model_1 = model_1.dropna(axis=1, how='all')\n",
    "    print(\"function execution has begun\")\n",
    "    model_1 = master_df.dropna(axis=1, how='all')\n",
    "    print(\"initial column drop done. Shape : {}\".format(model_1.shape))\n",
    "    print(\"{} ::: Dropping NaN Value Columns : {}\".format(model_name, model_1.shape[1]))\n",
    "    \n",
    "    # drops all rows with even one NaN value\n",
    "    model_1 = model_1.dropna()\n",
    "    print(\"initial row drop done. Shape : {}\".format(model_1.shape))\n",
    "    \n",
    "    # find all columns that are filled with the same value and drop them\n",
    "    columns_with_same_values = model_1.columns[model_1.nunique() <= 1].tolist()\n",
    "    \n",
    "    # do not remove the columns 'model' and 'capacity_bytes'\n",
    "    columns_with_same_values.remove('model')\n",
    "    columns_with_same_values.remove('capacity_bytes')\n",
    "    model_1 = model_1.drop(columns_with_same_values, axis=1)\n",
    "    print(\"repeating cloumn value drop done. Shape : {}\".format(model_1.shape))\n",
    "    print(\"{} ::: Dropping Columns With Same Value: {}\".format(model_name, model_1.shape[1]))\n",
    "    \n",
    "    # sort the dataframe based on serial_number and date\n",
    "    model_1 = model_1.sort_values(['serial_number', 'date'], ascending=[True, True])\n",
    "    print(\"sort done. Shape : {}\".format(model_1.shape))\n",
    "    return model_1"
   ]
  },
  {
   "cell_type": "code",
   "execution_count": 55,
   "metadata": {},
   "outputs": [
    {
     "name": "stdout",
     "output_type": "stream",
     "text": [
      "function execution has begun\n",
      "initial column drop done. Shape : (144151, 29)\n",
      "ST8000NM0055 ::: Dropping NaN Value Columns : 29\n",
      "initial row drop done. Shape : (144087, 29)\n",
      "repeating cloumn value drop done. Shape : (144087, 25)\n",
      "ST8000NM0055 ::: Dropping Columns With Same Value: 25\n",
      "sort done. Shape : (144087, 25)\n",
      "cleaned_data obtained\n"
     ]
    }
   ],
   "source": [
    "# cleaned data\n",
    "cleaned_data = data_cleaning(model_name)\n",
    "print(\"cleaned_data obtained\")"
   ]
  },
  {
   "cell_type": "code",
   "execution_count": 56,
   "metadata": {},
   "outputs": [
    {
     "name": "stdout",
     "output_type": "stream",
     "text": [
      "C:\\Users\\dell 1\\Desktop\\Prediction-of-Hard-Drive-Failure-master\\dataset2\\\\ST8000NM0055_last_day_all_q_raw.csv ::: export complete. Shape : (14427, 25)\n"
     ]
    }
   ],
   "source": [
    "last_day_data = cleaned_data.groupby('serial_number').tail(1)\n",
    "export_filename = r\"C:\\Users\\dell 1\\Desktop\\Prediction-of-Hard-Drive-Failure-master\\dataset2\\\\\" + model_name + \"_last_day_all_q_raw.csv\"\n",
    "last_day_data.to_csv(export_filename, index=False)\n",
    "print(\"{} ::: export complete. Shape : {}\".format(export_filename, last_day_data.shape))\n"
   ]
  },
  {
   "cell_type": "code",
   "execution_count": 57,
   "metadata": {},
   "outputs": [
    {
     "name": "stdout",
     "output_type": "stream",
     "text": [
      "Before\n",
      "failure\n",
      "0    144075\n",
      "1        12\n",
      "Name: count, dtype: int64\n"
     ]
    },
    {
     "name": "stderr",
     "output_type": "stream",
     "text": [
      "C:\\Users\\dell 1\\AppData\\Local\\Temp\\ipykernel_12456\\1135245351.py:9: FutureWarning: A value is trying to be set on a copy of a DataFrame or Series through chained assignment using an inplace method.\n",
      "The behavior will change in pandas 3.0. This inplace method will never work because the intermediate object on which we are setting values always behaves as a copy.\n",
      "\n",
      "For example, when doing 'df[col].method(value, inplace=True)', try using 'df.method({col: value}, inplace=True)' or df[col] = df[col].method(value) instead, to perform the operation inplace on the original object.\n",
      "\n",
      "\n",
      "  last_n_days_data[\"failure\"].mask(last_n_days_data[\"serial_number\"] == row[\"serial_number\"], 1, inplace=True)\n",
      "C:\\Users\\dell 1\\AppData\\Local\\Temp\\ipykernel_12456\\1135245351.py:9: FutureWarning: A value is trying to be set on a copy of a DataFrame or Series through chained assignment using an inplace method.\n",
      "The behavior will change in pandas 3.0. This inplace method will never work because the intermediate object on which we are setting values always behaves as a copy.\n",
      "\n",
      "For example, when doing 'df[col].method(value, inplace=True)', try using 'df.method({col: value}, inplace=True)' or df[col] = df[col].method(value) instead, to perform the operation inplace on the original object.\n",
      "\n",
      "\n",
      "  last_n_days_data[\"failure\"].mask(last_n_days_data[\"serial_number\"] == row[\"serial_number\"], 1, inplace=True)\n",
      "C:\\Users\\dell 1\\AppData\\Local\\Temp\\ipykernel_12456\\1135245351.py:9: FutureWarning: A value is trying to be set on a copy of a DataFrame or Series through chained assignment using an inplace method.\n",
      "The behavior will change in pandas 3.0. This inplace method will never work because the intermediate object on which we are setting values always behaves as a copy.\n",
      "\n",
      "For example, when doing 'df[col].method(value, inplace=True)', try using 'df.method({col: value}, inplace=True)' or df[col] = df[col].method(value) instead, to perform the operation inplace on the original object.\n",
      "\n",
      "\n",
      "  last_n_days_data[\"failure\"].mask(last_n_days_data[\"serial_number\"] == row[\"serial_number\"], 1, inplace=True)\n",
      "C:\\Users\\dell 1\\AppData\\Local\\Temp\\ipykernel_12456\\1135245351.py:9: FutureWarning: A value is trying to be set on a copy of a DataFrame or Series through chained assignment using an inplace method.\n",
      "The behavior will change in pandas 3.0. This inplace method will never work because the intermediate object on which we are setting values always behaves as a copy.\n",
      "\n",
      "For example, when doing 'df[col].method(value, inplace=True)', try using 'df.method({col: value}, inplace=True)' or df[col] = df[col].method(value) instead, to perform the operation inplace on the original object.\n",
      "\n",
      "\n",
      "  last_n_days_data[\"failure\"].mask(last_n_days_data[\"serial_number\"] == row[\"serial_number\"], 1, inplace=True)\n",
      "C:\\Users\\dell 1\\AppData\\Local\\Temp\\ipykernel_12456\\1135245351.py:9: FutureWarning: A value is trying to be set on a copy of a DataFrame or Series through chained assignment using an inplace method.\n",
      "The behavior will change in pandas 3.0. This inplace method will never work because the intermediate object on which we are setting values always behaves as a copy.\n",
      "\n",
      "For example, when doing 'df[col].method(value, inplace=True)', try using 'df.method({col: value}, inplace=True)' or df[col] = df[col].method(value) instead, to perform the operation inplace on the original object.\n",
      "\n",
      "\n",
      "  last_n_days_data[\"failure\"].mask(last_n_days_data[\"serial_number\"] == row[\"serial_number\"], 1, inplace=True)\n",
      "C:\\Users\\dell 1\\AppData\\Local\\Temp\\ipykernel_12456\\1135245351.py:9: FutureWarning: A value is trying to be set on a copy of a DataFrame or Series through chained assignment using an inplace method.\n",
      "The behavior will change in pandas 3.0. This inplace method will never work because the intermediate object on which we are setting values always behaves as a copy.\n",
      "\n",
      "For example, when doing 'df[col].method(value, inplace=True)', try using 'df.method({col: value}, inplace=True)' or df[col] = df[col].method(value) instead, to perform the operation inplace on the original object.\n",
      "\n",
      "\n",
      "  last_n_days_data[\"failure\"].mask(last_n_days_data[\"serial_number\"] == row[\"serial_number\"], 1, inplace=True)\n",
      "C:\\Users\\dell 1\\AppData\\Local\\Temp\\ipykernel_12456\\1135245351.py:9: FutureWarning: A value is trying to be set on a copy of a DataFrame or Series through chained assignment using an inplace method.\n",
      "The behavior will change in pandas 3.0. This inplace method will never work because the intermediate object on which we are setting values always behaves as a copy.\n",
      "\n",
      "For example, when doing 'df[col].method(value, inplace=True)', try using 'df.method({col: value}, inplace=True)' or df[col] = df[col].method(value) instead, to perform the operation inplace on the original object.\n",
      "\n",
      "\n",
      "  last_n_days_data[\"failure\"].mask(last_n_days_data[\"serial_number\"] == row[\"serial_number\"], 1, inplace=True)\n",
      "C:\\Users\\dell 1\\AppData\\Local\\Temp\\ipykernel_12456\\1135245351.py:9: FutureWarning: A value is trying to be set on a copy of a DataFrame or Series through chained assignment using an inplace method.\n",
      "The behavior will change in pandas 3.0. This inplace method will never work because the intermediate object on which we are setting values always behaves as a copy.\n",
      "\n",
      "For example, when doing 'df[col].method(value, inplace=True)', try using 'df.method({col: value}, inplace=True)' or df[col] = df[col].method(value) instead, to perform the operation inplace on the original object.\n",
      "\n",
      "\n",
      "  last_n_days_data[\"failure\"].mask(last_n_days_data[\"serial_number\"] == row[\"serial_number\"], 1, inplace=True)\n",
      "C:\\Users\\dell 1\\AppData\\Local\\Temp\\ipykernel_12456\\1135245351.py:9: FutureWarning: A value is trying to be set on a copy of a DataFrame or Series through chained assignment using an inplace method.\n",
      "The behavior will change in pandas 3.0. This inplace method will never work because the intermediate object on which we are setting values always behaves as a copy.\n",
      "\n",
      "For example, when doing 'df[col].method(value, inplace=True)', try using 'df.method({col: value}, inplace=True)' or df[col] = df[col].method(value) instead, to perform the operation inplace on the original object.\n",
      "\n",
      "\n",
      "  last_n_days_data[\"failure\"].mask(last_n_days_data[\"serial_number\"] == row[\"serial_number\"], 1, inplace=True)\n",
      "C:\\Users\\dell 1\\AppData\\Local\\Temp\\ipykernel_12456\\1135245351.py:9: FutureWarning: A value is trying to be set on a copy of a DataFrame or Series through chained assignment using an inplace method.\n",
      "The behavior will change in pandas 3.0. This inplace method will never work because the intermediate object on which we are setting values always behaves as a copy.\n",
      "\n",
      "For example, when doing 'df[col].method(value, inplace=True)', try using 'df.method({col: value}, inplace=True)' or df[col] = df[col].method(value) instead, to perform the operation inplace on the original object.\n",
      "\n",
      "\n",
      "  last_n_days_data[\"failure\"].mask(last_n_days_data[\"serial_number\"] == row[\"serial_number\"], 1, inplace=True)\n",
      "C:\\Users\\dell 1\\AppData\\Local\\Temp\\ipykernel_12456\\1135245351.py:9: FutureWarning: A value is trying to be set on a copy of a DataFrame or Series through chained assignment using an inplace method.\n",
      "The behavior will change in pandas 3.0. This inplace method will never work because the intermediate object on which we are setting values always behaves as a copy.\n",
      "\n",
      "For example, when doing 'df[col].method(value, inplace=True)', try using 'df.method({col: value}, inplace=True)' or df[col] = df[col].method(value) instead, to perform the operation inplace on the original object.\n",
      "\n",
      "\n",
      "  last_n_days_data[\"failure\"].mask(last_n_days_data[\"serial_number\"] == row[\"serial_number\"], 1, inplace=True)\n",
      "C:\\Users\\dell 1\\AppData\\Local\\Temp\\ipykernel_12456\\1135245351.py:9: FutureWarning: A value is trying to be set on a copy of a DataFrame or Series through chained assignment using an inplace method.\n",
      "The behavior will change in pandas 3.0. This inplace method will never work because the intermediate object on which we are setting values always behaves as a copy.\n",
      "\n",
      "For example, when doing 'df[col].method(value, inplace=True)', try using 'df.method({col: value}, inplace=True)' or df[col] = df[col].method(value) instead, to perform the operation inplace on the original object.\n",
      "\n",
      "\n",
      "  last_n_days_data[\"failure\"].mask(last_n_days_data[\"serial_number\"] == row[\"serial_number\"], 1, inplace=True)\n"
     ]
    },
    {
     "name": "stdout",
     "output_type": "stream",
     "text": [
      "\n",
      "After\n",
      "failure\n",
      "0    144023\n",
      "1        64\n",
      "Name: count, dtype: int64\n",
      "C:\\Users\\dell 1\\Desktop\\Prediction-of-Hard-Drive-Failure-master\\dataset2\\\\ST8000NM0055_last_10_day_all_q_raw.csv ::: export complete. Shape : (144087, 25)\n"
     ]
    }
   ],
   "source": [
    "n = 10  # number of days data needed\n",
    "last_n_days_data = cleaned_data.groupby('serial_number').tail(n)\n",
    "\n",
    "print(\"Before\")\n",
    "print(last_n_days_data[\"failure\"].value_counts())\n",
    "\n",
    "for index, row in last_day_data.iterrows():\n",
    "    if row[\"failure\"] == 1:\n",
    "        last_n_days_data[\"failure\"].mask(last_n_days_data[\"serial_number\"] == row[\"serial_number\"], 1, inplace=True)\n",
    "\n",
    "print(\"\\nAfter\")\n",
    "print(last_n_days_data[\"failure\"].value_counts())\n",
    "\n",
    "export_filepath = r\"C:\\Users\\dell 1\\Desktop\\Prediction-of-Hard-Drive-Failure-master\\dataset2\\\\\" + model_name + \"_last_\" + str(n) + \"_day_all_q_raw.csv\"\n",
    "last_n_days_data.to_csv(export_filepath, index=False)\n",
    "print(\"{} ::: export complete. Shape : {}\".format(export_filepath, last_n_days_data.shape))\n"
   ]
  },
  {
   "cell_type": "markdown",
   "metadata": {},
   "source": [
    "# NORMALISED DATA"
   ]
  },
  {
   "cell_type": "code",
   "execution_count": 58,
   "metadata": {},
   "outputs": [],
   "source": [
    "# put all the dataframes into a list \n",
    "master_df_list = []"
   ]
  },
  {
   "cell_type": "code",
   "execution_count": 59,
   "metadata": {},
   "outputs": [],
   "source": [
    "# determine all the columns that have to be dropped by default\n",
    "def drop_column_names():\n",
    "    data = pd.read_csv(files[0])\n",
    "    drop_columns = []\n",
    "    for i in data.columns:\n",
    "        if \"raw\" in i:\n",
    "            drop_columns.append(i)     \n",
    "    return drop_columns"
   ]
  },
  {
   "cell_type": "code",
   "execution_count": 60,
   "metadata": {},
   "outputs": [],
   "source": [
    "# columns that have to be dropped\n",
    "drop_names = drop_column_names()"
   ]
  },
  {
   "cell_type": "code",
   "execution_count": 61,
   "metadata": {},
   "outputs": [
    {
     "name": "stdout",
     "output_type": "stream",
     "text": [
      "C:\\Users\\dell 1\\Desktop\\Prediction-of-Hard-Drive-Failure-master\\short_data_Q1\\2023-01-01.csv added to master_list\n",
      "C:\\Users\\dell 1\\Desktop\\Prediction-of-Hard-Drive-Failure-master\\short_data_Q1\\2023-01-02.csv added to master_list\n",
      "C:\\Users\\dell 1\\Desktop\\Prediction-of-Hard-Drive-Failure-master\\short_data_Q1\\2023-01-03.csv added to master_list\n",
      "C:\\Users\\dell 1\\Desktop\\Prediction-of-Hard-Drive-Failure-master\\short_data_Q1\\2023-01-04.csv added to master_list\n",
      "C:\\Users\\dell 1\\Desktop\\Prediction-of-Hard-Drive-Failure-master\\short_data_Q1\\2023-01-05.csv added to master_list\n",
      "C:\\Users\\dell 1\\Desktop\\Prediction-of-Hard-Drive-Failure-master\\short_data_Q1\\2023-01-06.csv added to master_list\n",
      "C:\\Users\\dell 1\\Desktop\\Prediction-of-Hard-Drive-Failure-master\\short_data_Q1\\2023-01-07.csv added to master_list\n",
      "C:\\Users\\dell 1\\Desktop\\Prediction-of-Hard-Drive-Failure-master\\short_data_Q1\\2023-01-08.csv added to master_list\n",
      "C:\\Users\\dell 1\\Desktop\\Prediction-of-Hard-Drive-Failure-master\\short_data_Q1\\2023-01-09.csv added to master_list\n",
      "C:\\Users\\dell 1\\Desktop\\Prediction-of-Hard-Drive-Failure-master\\short_data_Q1\\2023-01-10.csv added to master_list\n"
     ]
    }
   ],
   "source": [
    "# iterate over each file and drop the unwanted columns\n",
    "for file_name in files:\n",
    "    data = pd.read_csv(file_name)\n",
    "    data.drop(drop_names, axis = 1, inplace=True)\n",
    "    data = data[data[\"model\"] == model_name]\n",
    "    master_df_list.append(data.copy())\n",
    "    print(\"{} added to master_list\".format(file_name))"
   ]
  },
  {
   "cell_type": "code",
   "execution_count": 62,
   "metadata": {},
   "outputs": [
    {
     "name": "stdout",
     "output_type": "stream",
     "text": [
      "concat started\n",
      "concat complete\n"
     ]
    },
    {
     "data": {
      "text/plain": [
       "(144151, 92)"
      ]
     },
     "execution_count": 62,
     "metadata": {},
     "output_type": "execute_result"
    }
   ],
   "source": [
    "# generate a master data frame to have all the data\n",
    "print(\"concat started\")\n",
    "master_df = pd.concat(master_df_list, sort=False)\n",
    "print(\"concat complete\")\n",
    "master_df.shape"
   ]
  },
  {
   "cell_type": "code",
   "execution_count": 63,
   "metadata": {},
   "outputs": [],
   "source": [
    "# data cleaning operations\n",
    "def data_cleaning_normalised(model_name):\n",
    "    # model_1 = master_df[master_df[\"model\"] == model_name]\n",
    "    \n",
    "    # drop all columns that are only NaN\n",
    "    print(\"function execution has begun\")\n",
    "    model_1 = master_df.dropna(axis=1, how='all')\n",
    "    # model_1 = model_1.dropna(axis=1, how='all')\n",
    "    print(\"initial column drop done. Shape : {}\".format(model_1.shape))\n",
    "    \n",
    "    # drops all rows with even one NaN value\n",
    "    model_1 = model_1.dropna()\n",
    "    print(\"initial row drop done. Shape : {}\".format(model_1.shape))\n",
    "    \n",
    "    # find all columns that are filled with the same value and drop them\n",
    "    columns_with_same_values = model_1.columns[model_1.nunique() <= 1].tolist()\n",
    "    \n",
    "    # do not remove the columns 'model' and 'capacity_bytes'\n",
    "    columns_with_same_values.remove('model')\n",
    "    columns_with_same_values.remove('capacity_bytes')\n",
    "    model_1 = model_1.drop(columns_with_same_values, axis=1)\n",
    "    print(\"repeating cloumn value drop done. Shape : {}\".format(model_1.shape))\n",
    "    \n",
    "    # sort the dataframe based on serial_number and date\n",
    "    model_1 = model_1.sort_values(['serial_number', 'date'], ascending=[True, True])\n",
    "    print(\"sort done. Shape : {}\".format(model_1.shape))\n",
    "    return model_1"
   ]
  },
  {
   "cell_type": "code",
   "execution_count": 64,
   "metadata": {},
   "outputs": [
    {
     "name": "stdout",
     "output_type": "stream",
     "text": [
      "function execution has begun\n",
      "initial column drop done. Shape : (144151, 29)\n",
      "initial row drop done. Shape : (144087, 29)\n",
      "repeating cloumn value drop done. Shape : (144087, 17)\n",
      "sort done. Shape : (144087, 17)\n",
      "cleaned_data obtained\n"
     ]
    }
   ],
   "source": [
    "# cleaned data\n",
    "cleaned_data = data_cleaning_normalised(model_name)\n",
    "print(\"cleaned_data obtained\")"
   ]
  },
  {
   "cell_type": "code",
   "execution_count": 65,
   "metadata": {},
   "outputs": [
    {
     "name": "stdout",
     "output_type": "stream",
     "text": [
      "C:\\Users\\dell 1\\Desktop\\Prediction-of-Hard-Drive-Failure-master\\dataset2\\\\ST8000NM0055_last_day_all_q_normalised.csv ::: export complete. Shape : (14427, 17)\n"
     ]
    }
   ],
   "source": [
    "last_day_data = cleaned_data.groupby('serial_number').tail(1)\n",
    "export_filename = r\"C:\\Users\\dell 1\\Desktop\\Prediction-of-Hard-Drive-Failure-master\\dataset2\\\\\" + model_name + \"_last_day_all_q_normalised.csv\"\n",
    "last_day_data.to_csv(export_filename, index=False)\n",
    "print(\"{} ::: export complete. Shape : {}\".format(export_filename, last_day_data.shape))\n"
   ]
  },
  {
   "cell_type": "code",
   "execution_count": 66,
   "metadata": {},
   "outputs": [
    {
     "name": "stdout",
     "output_type": "stream",
     "text": [
      "Before\n",
      "failure\n",
      "0    144075\n",
      "1        12\n",
      "Name: count, dtype: int64\n"
     ]
    },
    {
     "name": "stderr",
     "output_type": "stream",
     "text": [
      "C:\\Users\\dell 1\\AppData\\Local\\Temp\\ipykernel_12456\\1542373976.py:9: FutureWarning: A value is trying to be set on a copy of a DataFrame or Series through chained assignment using an inplace method.\n",
      "The behavior will change in pandas 3.0. This inplace method will never work because the intermediate object on which we are setting values always behaves as a copy.\n",
      "\n",
      "For example, when doing 'df[col].method(value, inplace=True)', try using 'df.method({col: value}, inplace=True)' or df[col] = df[col].method(value) instead, to perform the operation inplace on the original object.\n",
      "\n",
      "\n",
      "  last_n_days_data[\"failure\"].mask(last_n_days_data[\"serial_number\"] == row[\"serial_number\"], 1, inplace=True)\n",
      "C:\\Users\\dell 1\\AppData\\Local\\Temp\\ipykernel_12456\\1542373976.py:9: FutureWarning: A value is trying to be set on a copy of a DataFrame or Series through chained assignment using an inplace method.\n",
      "The behavior will change in pandas 3.0. This inplace method will never work because the intermediate object on which we are setting values always behaves as a copy.\n",
      "\n",
      "For example, when doing 'df[col].method(value, inplace=True)', try using 'df.method({col: value}, inplace=True)' or df[col] = df[col].method(value) instead, to perform the operation inplace on the original object.\n",
      "\n",
      "\n",
      "  last_n_days_data[\"failure\"].mask(last_n_days_data[\"serial_number\"] == row[\"serial_number\"], 1, inplace=True)\n",
      "C:\\Users\\dell 1\\AppData\\Local\\Temp\\ipykernel_12456\\1542373976.py:9: FutureWarning: A value is trying to be set on a copy of a DataFrame or Series through chained assignment using an inplace method.\n",
      "The behavior will change in pandas 3.0. This inplace method will never work because the intermediate object on which we are setting values always behaves as a copy.\n",
      "\n",
      "For example, when doing 'df[col].method(value, inplace=True)', try using 'df.method({col: value}, inplace=True)' or df[col] = df[col].method(value) instead, to perform the operation inplace on the original object.\n",
      "\n",
      "\n",
      "  last_n_days_data[\"failure\"].mask(last_n_days_data[\"serial_number\"] == row[\"serial_number\"], 1, inplace=True)\n",
      "C:\\Users\\dell 1\\AppData\\Local\\Temp\\ipykernel_12456\\1542373976.py:9: FutureWarning: A value is trying to be set on a copy of a DataFrame or Series through chained assignment using an inplace method.\n",
      "The behavior will change in pandas 3.0. This inplace method will never work because the intermediate object on which we are setting values always behaves as a copy.\n",
      "\n",
      "For example, when doing 'df[col].method(value, inplace=True)', try using 'df.method({col: value}, inplace=True)' or df[col] = df[col].method(value) instead, to perform the operation inplace on the original object.\n",
      "\n",
      "\n",
      "  last_n_days_data[\"failure\"].mask(last_n_days_data[\"serial_number\"] == row[\"serial_number\"], 1, inplace=True)\n",
      "C:\\Users\\dell 1\\AppData\\Local\\Temp\\ipykernel_12456\\1542373976.py:9: FutureWarning: A value is trying to be set on a copy of a DataFrame or Series through chained assignment using an inplace method.\n",
      "The behavior will change in pandas 3.0. This inplace method will never work because the intermediate object on which we are setting values always behaves as a copy.\n",
      "\n",
      "For example, when doing 'df[col].method(value, inplace=True)', try using 'df.method({col: value}, inplace=True)' or df[col] = df[col].method(value) instead, to perform the operation inplace on the original object.\n",
      "\n",
      "\n",
      "  last_n_days_data[\"failure\"].mask(last_n_days_data[\"serial_number\"] == row[\"serial_number\"], 1, inplace=True)\n",
      "C:\\Users\\dell 1\\AppData\\Local\\Temp\\ipykernel_12456\\1542373976.py:9: FutureWarning: A value is trying to be set on a copy of a DataFrame or Series through chained assignment using an inplace method.\n",
      "The behavior will change in pandas 3.0. This inplace method will never work because the intermediate object on which we are setting values always behaves as a copy.\n",
      "\n",
      "For example, when doing 'df[col].method(value, inplace=True)', try using 'df.method({col: value}, inplace=True)' or df[col] = df[col].method(value) instead, to perform the operation inplace on the original object.\n",
      "\n",
      "\n",
      "  last_n_days_data[\"failure\"].mask(last_n_days_data[\"serial_number\"] == row[\"serial_number\"], 1, inplace=True)\n",
      "C:\\Users\\dell 1\\AppData\\Local\\Temp\\ipykernel_12456\\1542373976.py:9: FutureWarning: A value is trying to be set on a copy of a DataFrame or Series through chained assignment using an inplace method.\n",
      "The behavior will change in pandas 3.0. This inplace method will never work because the intermediate object on which we are setting values always behaves as a copy.\n",
      "\n",
      "For example, when doing 'df[col].method(value, inplace=True)', try using 'df.method({col: value}, inplace=True)' or df[col] = df[col].method(value) instead, to perform the operation inplace on the original object.\n",
      "\n",
      "\n",
      "  last_n_days_data[\"failure\"].mask(last_n_days_data[\"serial_number\"] == row[\"serial_number\"], 1, inplace=True)\n",
      "C:\\Users\\dell 1\\AppData\\Local\\Temp\\ipykernel_12456\\1542373976.py:9: FutureWarning: A value is trying to be set on a copy of a DataFrame or Series through chained assignment using an inplace method.\n",
      "The behavior will change in pandas 3.0. This inplace method will never work because the intermediate object on which we are setting values always behaves as a copy.\n",
      "\n",
      "For example, when doing 'df[col].method(value, inplace=True)', try using 'df.method({col: value}, inplace=True)' or df[col] = df[col].method(value) instead, to perform the operation inplace on the original object.\n",
      "\n",
      "\n",
      "  last_n_days_data[\"failure\"].mask(last_n_days_data[\"serial_number\"] == row[\"serial_number\"], 1, inplace=True)\n",
      "C:\\Users\\dell 1\\AppData\\Local\\Temp\\ipykernel_12456\\1542373976.py:9: FutureWarning: A value is trying to be set on a copy of a DataFrame or Series through chained assignment using an inplace method.\n",
      "The behavior will change in pandas 3.0. This inplace method will never work because the intermediate object on which we are setting values always behaves as a copy.\n",
      "\n",
      "For example, when doing 'df[col].method(value, inplace=True)', try using 'df.method({col: value}, inplace=True)' or df[col] = df[col].method(value) instead, to perform the operation inplace on the original object.\n",
      "\n",
      "\n",
      "  last_n_days_data[\"failure\"].mask(last_n_days_data[\"serial_number\"] == row[\"serial_number\"], 1, inplace=True)\n",
      "C:\\Users\\dell 1\\AppData\\Local\\Temp\\ipykernel_12456\\1542373976.py:9: FutureWarning: A value is trying to be set on a copy of a DataFrame or Series through chained assignment using an inplace method.\n",
      "The behavior will change in pandas 3.0. This inplace method will never work because the intermediate object on which we are setting values always behaves as a copy.\n",
      "\n",
      "For example, when doing 'df[col].method(value, inplace=True)', try using 'df.method({col: value}, inplace=True)' or df[col] = df[col].method(value) instead, to perform the operation inplace on the original object.\n",
      "\n",
      "\n",
      "  last_n_days_data[\"failure\"].mask(last_n_days_data[\"serial_number\"] == row[\"serial_number\"], 1, inplace=True)\n",
      "C:\\Users\\dell 1\\AppData\\Local\\Temp\\ipykernel_12456\\1542373976.py:9: FutureWarning: A value is trying to be set on a copy of a DataFrame or Series through chained assignment using an inplace method.\n",
      "The behavior will change in pandas 3.0. This inplace method will never work because the intermediate object on which we are setting values always behaves as a copy.\n",
      "\n",
      "For example, when doing 'df[col].method(value, inplace=True)', try using 'df.method({col: value}, inplace=True)' or df[col] = df[col].method(value) instead, to perform the operation inplace on the original object.\n",
      "\n",
      "\n",
      "  last_n_days_data[\"failure\"].mask(last_n_days_data[\"serial_number\"] == row[\"serial_number\"], 1, inplace=True)\n",
      "C:\\Users\\dell 1\\AppData\\Local\\Temp\\ipykernel_12456\\1542373976.py:9: FutureWarning: A value is trying to be set on a copy of a DataFrame or Series through chained assignment using an inplace method.\n",
      "The behavior will change in pandas 3.0. This inplace method will never work because the intermediate object on which we are setting values always behaves as a copy.\n",
      "\n",
      "For example, when doing 'df[col].method(value, inplace=True)', try using 'df.method({col: value}, inplace=True)' or df[col] = df[col].method(value) instead, to perform the operation inplace on the original object.\n",
      "\n",
      "\n",
      "  last_n_days_data[\"failure\"].mask(last_n_days_data[\"serial_number\"] == row[\"serial_number\"], 1, inplace=True)\n"
     ]
    },
    {
     "name": "stdout",
     "output_type": "stream",
     "text": [
      "\n",
      "After\n",
      "failure\n",
      "0    144023\n",
      "1        64\n",
      "Name: count, dtype: int64\n",
      "C:\\Users\\dell 1\\Desktop\\Prediction-of-Hard-Drive-Failure-master\\dataset2\\\\ST8000NM0055_last_10_day_all_q_normalised.csv ::: export complete. Shape : (144087, 17)\n"
     ]
    }
   ],
   "source": [
    "n = 10  # number of days data needed\n",
    "last_n_days_data = cleaned_data.groupby('serial_number').tail(n)\n",
    "\n",
    "print(\"Before\")\n",
    "print(last_n_days_data[\"failure\"].value_counts())\n",
    "\n",
    "for index, row in last_day_data.iterrows():\n",
    "    if row[\"failure\"] == 1:\n",
    "        last_n_days_data[\"failure\"].mask(last_n_days_data[\"serial_number\"] == row[\"serial_number\"], 1, inplace=True)\n",
    "\n",
    "print(\"\\nAfter\")\n",
    "print(last_n_days_data[\"failure\"].value_counts())\n",
    "\n",
    "export_filepath = r\"C:\\Users\\dell 1\\Desktop\\Prediction-of-Hard-Drive-Failure-master\\dataset2\\\\\" + model_name + \"_last_\" + str(n) + \"_day_all_q_normalised.csv\"\n",
    "last_n_days_data.to_csv(export_filepath, index=False)\n",
    "print(\"{} ::: export complete. Shape : {}\".format(export_filepath, last_n_days_data.shape))\n"
   ]
  }
 ],
 "metadata": {
  "kernelspec": {
   "display_name": "Python 3 (ipykernel)",
   "language": "python",
   "name": "python3"
  },
  "language_info": {
   "codemirror_mode": {
    "name": "ipython",
    "version": 3
   },
   "file_extension": ".py",
   "mimetype": "text/x-python",
   "name": "python",
   "nbconvert_exporter": "python",
   "pygments_lexer": "ipython3",
   "version": "3.12.2"
  }
 },
 "nbformat": 4,
 "nbformat_minor": 4
}
