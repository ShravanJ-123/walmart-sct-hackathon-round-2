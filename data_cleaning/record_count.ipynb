{
 "cells": [
  {
   "cell_type": "code",
   "execution_count": 1,
   "metadata": {},
   "outputs": [],
   "source": [
    "import pandas as pd\n",
    "import numpy as np"
   ]
  },
  {
   "cell_type": "code",
   "execution_count": 2,
   "metadata": {},
   "outputs": [],
   "source": [
    "\n",
    "from os import listdir\n",
    "from os.path import isfile, join"
   ]
  },
  {
   "cell_type": "code",
   "execution_count": 3,
   "metadata": {},
   "outputs": [
    {
     "data": {
      "text/plain": [
       "10"
      ]
     },
     "execution_count": 3,
     "metadata": {},
     "output_type": "execute_result"
    }
   ],
   "source": [
    "from os import listdir\n",
    "from os.path import isfile, join\n",
    "\n",
    "file_paths = [r\"C:\\Users\\dell 1\\Desktop\\Prediction-of-Hard-Drive-Failure-master\\short_data_Q1\"]\n",
    "\n",
    "files = []\n",
    "\n",
    "for filepath in file_paths:\n",
    "    files_1 = [f for f in listdir(filepath) if isfile(join(filepath, f))]\n",
    "    files_1 = [join(filepath, f) for f in files_1 if f.endswith(\".csv\") and f.startswith(\"202\")]\n",
    "    files.extend(files_1)\n",
    "\n",
    "len(files)"
   ]
  },
  {
   "cell_type": "code",
   "execution_count": 4,
   "metadata": {},
   "outputs": [
    {
     "name": "stdout",
     "output_type": "stream",
     "text": [
      "C:\\Users\\dell 1\\Desktop\\Prediction-of-Hard-Drive-Failure-master\\data_cleaning\n"
     ]
    }
   ],
   "source": [
    "import os\n",
    "current_directory = os.getcwd()\n",
    "print(current_directory)\n"
   ]
  },
  {
   "cell_type": "code",
   "execution_count": 5,
   "metadata": {},
   "outputs": [],
   "source": [
    "total = 0"
   ]
  },
  {
   "cell_type": "code",
   "execution_count": 6,
   "metadata": {},
   "outputs": [
    {
     "name": "stdout",
     "output_type": "stream",
     "text": [
      "C:\\Users\\dell 1\\Desktop\\Prediction-of-Hard-Drive-Failure-master\\short_data_Q1\\2023-01-01.csv added to master_list::: record_count : 235597 ::: total : 235597\n",
      "C:\\Users\\dell 1\\Desktop\\Prediction-of-Hard-Drive-Failure-master\\short_data_Q1\\2023-01-02.csv added to master_list::: record_count : 235589 ::: total : 471186\n",
      "C:\\Users\\dell 1\\Desktop\\Prediction-of-Hard-Drive-Failure-master\\short_data_Q1\\2023-01-03.csv added to master_list::: record_count : 235558 ::: total : 706744\n",
      "C:\\Users\\dell 1\\Desktop\\Prediction-of-Hard-Drive-Failure-master\\short_data_Q1\\2023-01-04.csv added to master_list::: record_count : 235581 ::: total : 942325\n",
      "C:\\Users\\dell 1\\Desktop\\Prediction-of-Hard-Drive-Failure-master\\short_data_Q1\\2023-01-05.csv added to master_list::: record_count : 235572 ::: total : 1177897\n",
      "C:\\Users\\dell 1\\Desktop\\Prediction-of-Hard-Drive-Failure-master\\short_data_Q1\\2023-01-06.csv added to master_list::: record_count : 235652 ::: total : 1413549\n",
      "C:\\Users\\dell 1\\Desktop\\Prediction-of-Hard-Drive-Failure-master\\short_data_Q1\\2023-01-07.csv added to master_list::: record_count : 235669 ::: total : 1649218\n",
      "C:\\Users\\dell 1\\Desktop\\Prediction-of-Hard-Drive-Failure-master\\short_data_Q1\\2023-01-08.csv added to master_list::: record_count : 235660 ::: total : 1884878\n",
      "C:\\Users\\dell 1\\Desktop\\Prediction-of-Hard-Drive-Failure-master\\short_data_Q1\\2023-01-09.csv added to master_list::: record_count : 235651 ::: total : 2120529\n",
      "C:\\Users\\dell 1\\Desktop\\Prediction-of-Hard-Drive-Failure-master\\short_data_Q1\\2023-01-10.csv added to master_list::: record_count : 236815 ::: total : 2357344\n"
     ]
    },
    {
     "name": "stdout",
     "output_type": "stream",
     "text": [
      "../../data_Q3_2019/2019-09-06.csv added to master_list::: record_count : 112955 ::: total : 26147736\n",
      "../../data_Q3_2019/2019-09-12.csv added to master_list::: record_count : 112948 ::: total : 26260684\n",
      "../../data_Q3_2019/2019-07-07.csv added to master_list::: record_count : 110640 ::: total : 26371324\n",
      "../../data_Q3_2019/2019-07-13.csv added to master_list::: record_count : 110731 ::: total : 26482055\n",
      "../../data_Q3_2019/2019-09-16.csv added to master_list::: record_count : 112891 ::: total : 26594946\n",
      "../../data_Q3_2019/2019-09-02.csv added to master_list::: record_count : 112922 ::: total : 26707868\n",
      "../../data_Q3_2019/2019-09-03.csv added to master_list::: record_count : 112886 ::: total : 26820754\n",
      "../../data_Q3_2019/2019-09-17.csv added to master_list::: record_count : 112953 ::: total : 26933707\n",
      "../../data_Q3_2019/2019-07-12.csv added to master_list::: record_count : 110656 ::: total : 27044363\n",
      "../../data_Q3_2019/2019-07-06.csv added to master_list::: record_count : 110637 ::: total : 27155000\n",
      "../../data_Q3_2019/2019-07-10.csv added to master_list::: record_count : 110593 ::: total : 27265593\n",
      "../../data_Q3_2019/2019-07-04.csv added to master_list::: record_count : 110702 ::: total : 27376295\n",
      "../../data_Q3_2019/2019-09-29.csv added to master_list::: record_count : 115260 ::: total : 27491555\n",
      "../../data_Q3_2019/2019-09-01.csv added to master_list::: record_count : 112919 ::: total : 27604474\n",
      "../../data_Q3_2019/2019-09-15.csv added to master_list::: record_count : 112954 ::: total : 27717428\n",
      "../../data_Q3_2019/2019-09-14.csv added to master_list::: record_count : 112956 ::: total : 27830384\n",
      "../../data_Q3_2019/2019-09-28.csv added to master_list::: record_count : 115257 ::: total : 27945641\n",
      "../../data_Q3_2019/2019-07-05.csv added to master_list::: record_count : 110700 ::: total : 28056341\n",
      "../../data_Q3_2019/2019-07-11.csv added to master_list::: record_count : 110653 ::: total : 28166994\n",
      "../../data_Q3_2019/2019-08-27.csv added to master_list::: record_count : 112926 ::: total : 28279920\n",
      "../../data_Q3_2019/2019-08-26.csv added to master_list::: record_count : 112926 ::: total : 28392846\n",
      "../../data_Q3_2019/2019-08-18.csv added to master_list::: record_count : 113012 ::: total : 28505858\n",
      "../../data_Q3_2019/2019-08-24.csv added to master_list::: record_count : 113014 ::: total : 28618872\n",
      "../../data_Q3_2019/2019-08-30.csv added to master_list::: record_count : 112877 ::: total : 28731749\n",
      "../../data_Q3_2019/2019-08-31.csv added to master_list::: record_count : 112985 ::: total : 28844734\n",
      "../../data_Q3_2019/2019-08-25.csv added to master_list::: record_count : 112983 ::: total : 28957717\n",
      "../../data_Q3_2019/2019-08-19.csv added to master_list::: record_count : 113015 ::: total : 29070732\n",
      "../../data_Q3_2019/2019-08-21.csv added to master_list::: record_count : 112969 ::: total : 29183701\n",
      "../../data_Q3_2019/2019-08-09.csv added to master_list::: record_count : 111796 ::: total : 29295497\n",
      "../../data_Q3_2019/2019-08-08.csv added to master_list::: record_count : 111795 ::: total : 29407292\n",
      "../../data_Q3_2019/2019-08-20.csv added to master_list::: record_count : 113015 ::: total : 29520307\n",
      "../../data_Q3_2019/2019-08-22.csv added to master_list::: record_count : 113013 ::: total : 29633320\n",
      "../../data_Q3_2019/2019-08-23.csv added to master_list::: record_count : 113017 ::: total : 29746337\n",
      "../../data_Q4_2019/2019-11-27.csv added to master_list::: record_count : 122580 ::: total : 29868917\n",
      "../../data_Q4_2019/2019-11-26.csv added to master_list::: record_count : 121352 ::: total : 29990269\n",
      "../../data_Q4_2019/2019-11-18.csv added to master_list::: record_count : 121293 ::: total : 30111562\n",
      "../../data_Q4_2019/2019-11-30.csv added to master_list::: record_count : 122578 ::: total : 30234140\n",
      "../../data_Q4_2019/2019-11-24.csv added to master_list::: record_count : 121360 ::: total : 30355500\n",
      "../../data_Q4_2019/2019-11-25.csv added to master_list::: record_count : 121360 ::: total : 30476860\n",
      "../../data_Q4_2019/2019-11-19.csv added to master_list::: record_count : 121294 ::: total : 30598154\n",
      "../../data_Q4_2019/2019-11-21.csv added to master_list::: record_count : 121359 ::: total : 30719513\n",
      "../../data_Q4_2019/2019-11-09.csv added to master_list::: record_count : 118920 ::: total : 30838433\n",
      "../../data_Q4_2019/2019-11-08.csv added to master_list::: record_count : 118919 ::: total : 30957352\n",
      "../../data_Q4_2019/2019-11-20.csv added to master_list::: record_count : 121358 ::: total : 31078710\n",
      "../../data_Q4_2019/2019-11-22.csv added to master_list::: record_count : 121352 ::: total : 31200062\n",
      "../../data_Q4_2019/2019-11-23.csv added to master_list::: record_count : 121359 ::: total : 31321421\n",
      "../../data_Q4_2019/2019-12-15.csv added to master_list::: record_count : 122575 ::: total : 31443996\n",
      "../../data_Q4_2019/2019-12-01.csv added to master_list::: record_count : 122579 ::: total : 31566575\n",
      "../../data_Q4_2019/2019-12-29.csv added to master_list::: record_count : 124958 ::: total : 31691533\n",
      "../../data_Q4_2019/2019-10-10.csv added to master_list::: record_count : 115258 ::: total : 31806791\n",
      "../../data_Q4_2019/2019-10-04.csv added to master_list::: record_count : 115257 ::: total : 31922048\n",
      "../../data_Q4_2019/2019-10-05.csv added to master_list::: record_count : 115259 ::: total : 32037307\n",
      "../../data_Q4_2019/2019-10-11.csv added to master_list::: record_count : 116479 ::: total : 32153786\n",
      "../../data_Q4_2019/2019-12-28.csv added to master_list::: record_count : 124957 ::: total : 32278743\n",
      "../../data_Q4_2019/2019-12-14.csv added to master_list::: record_count : 122580 ::: total : 32401323\n",
      "../../data_Q4_2019/2019-12-02.csv added to master_list::: record_count : 122580 ::: total : 32523903\n",
      "../../data_Q4_2019/2019-12-16.csv added to master_list::: record_count : 122578 ::: total : 32646481\n",
      "../../data_Q4_2019/2019-10-07.csv added to master_list::: record_count : 115256 ::: total : 32761737\n",
      "../../data_Q4_2019/2019-10-13.csv added to master_list::: record_count : 116477 ::: total : 32878214\n",
      "../../data_Q4_2019/2019-10-12.csv added to master_list::: record_count : 116477 ::: total : 32994691\n",
      "../../data_Q4_2019/2019-10-06.csv added to master_list::: record_count : 115259 ::: total : 33109950\n",
      "../../data_Q4_2019/2019-12-17.csv added to master_list::: record_count : 123800 ::: total : 33233750\n",
      "../../data_Q4_2019/2019-12-03.csv added to master_list::: record_count : 122578 ::: total : 33356328\n",
      "../../data_Q4_2019/2019-12-07.csv added to master_list::: record_count : 122580 ::: total : 33478908\n",
      "../../data_Q4_2019/2019-12-13.csv added to master_list::: record_count : 122579 ::: total : 33601487\n",
      "../../data_Q4_2019/2019-10-02.csv added to master_list::: record_count : 115258 ::: total : 33716745\n",
      "../../data_Q4_2019/2019-10-16.csv added to master_list::: record_count : 116472 ::: total : 33833217\n",
      "../../data_Q4_2019/2019-10-17.csv added to master_list::: record_count : 116478 ::: total : 33949695\n",
      "../../data_Q4_2019/2019-10-03.csv added to master_list::: record_count : 115255 ::: total : 34064950\n",
      "../../data_Q4_2019/2019-12-12.csv added to master_list::: record_count : 122575 ::: total : 34187525\n",
      "../../data_Q4_2019/2019-12-06.csv added to master_list::: record_count : 122580 ::: total : 34310105\n",
      "../../data_Q4_2019/2019-12-10.csv added to master_list::: record_count : 122580 ::: total : 34432685\n",
      "../../data_Q4_2019/2019-12-04.csv added to master_list::: record_count : 122580 ::: total : 34555265\n",
      "../../data_Q4_2019/2019-10-29.csv added to master_list::: record_count : 117639 ::: total : 34672904\n",
      "../../data_Q4_2019/2019-10-15.csv added to master_list::: record_count : 116472 ::: total : 34789376\n",
      "../../data_Q4_2019/2019-10-01.csv added to master_list::: record_count : 115259 ::: total : 34904635\n",
      "../../data_Q4_2019/2019-10-14.csv added to master_list::: record_count : 116414 ::: total : 35021049\n",
      "../../data_Q4_2019/2019-10-28.csv added to master_list::: record_count : 116415 ::: total : 35137464\n",
      "../../data_Q4_2019/2019-12-05.csv added to master_list::: record_count : 122580 ::: total : 35260044\n",
      "../../data_Q4_2019/2019-12-11.csv added to master_list::: record_count : 122579 ::: total : 35382623\n",
      "../../data_Q4_2019/2019-12-20.csv added to master_list::: record_count : 123800 ::: total : 35506423\n",
      "../../data_Q4_2019/2019-12-08.csv added to master_list::: record_count : 122579 ::: total : 35629002\n"
     ]
    },
    {
     "name": "stdout",
     "output_type": "stream",
     "text": [
      "../../data_Q4_2019/2019-10-31.csv added to master_list::: record_count : 118918 ::: total : 35747920\n",
      "../../data_Q4_2019/2019-10-25.csv added to master_list::: record_count : 116479 ::: total : 35864399\n",
      "../../data_Q4_2019/2019-10-19.csv added to master_list::: record_count : 116480 ::: total : 35980879\n",
      "../../data_Q4_2019/2019-10-18.csv added to master_list::: record_count : 116479 ::: total : 36097358\n",
      "../../data_Q4_2019/2019-10-24.csv added to master_list::: record_count : 116480 ::: total : 36213838\n",
      "../../data_Q4_2019/2019-10-30.csv added to master_list::: record_count : 118918 ::: total : 36332756\n",
      "../../data_Q4_2019/2019-12-09.csv added to master_list::: record_count : 122518 ::: total : 36455274\n",
      "../../data_Q4_2019/2019-12-21.csv added to master_list::: record_count : 125014 ::: total : 36580288\n",
      "../../data_Q4_2019/2019-12-23.csv added to master_list::: record_count : 125020 ::: total : 36705308\n",
      "../../data_Q4_2019/2019-10-26.csv added to master_list::: record_count : 116418 ::: total : 36821726\n",
      "../../data_Q4_2019/2019-10-27.csv added to master_list::: record_count : 116413 ::: total : 36938139\n",
      "../../data_Q4_2019/2019-12-22.csv added to master_list::: record_count : 125018 ::: total : 37063157\n",
      "../../data_Q4_2019/2019-12-26.csv added to master_list::: record_count : 125017 ::: total : 37188174\n",
      "../../data_Q4_2019/2019-10-23.csv added to master_list::: record_count : 116480 ::: total : 37304654\n",
      "../../data_Q4_2019/2019-10-22.csv added to master_list::: record_count : 116478 ::: total : 37421132\n",
      "../../data_Q4_2019/2019-12-27.csv added to master_list::: record_count : 124958 ::: total : 37546090\n",
      "../../data_Q4_2019/2019-12-19.csv added to master_list::: record_count : 123794 ::: total : 37669884\n",
      "../../data_Q4_2019/2019-12-31.csv added to master_list::: record_count : 124956 ::: total : 37794840\n",
      "../../data_Q4_2019/2019-12-25.csv added to master_list::: record_count : 125020 ::: total : 37919860\n",
      "../../data_Q4_2019/2019-10-08.csv added to master_list::: record_count : 115259 ::: total : 38035119\n",
      "../../data_Q4_2019/2019-10-20.csv added to master_list::: record_count : 116477 ::: total : 38151596\n",
      "../../data_Q4_2019/2019-10-21.csv added to master_list::: record_count : 116478 ::: total : 38268074\n",
      "../../data_Q4_2019/2019-10-09.csv added to master_list::: record_count : 115258 ::: total : 38383332\n",
      "../../data_Q4_2019/2019-12-24.csv added to master_list::: record_count : 125020 ::: total : 38508352\n",
      "../../data_Q4_2019/2019-12-30.csv added to master_list::: record_count : 124896 ::: total : 38633248\n",
      "../../data_Q4_2019/2019-12-18.csv added to master_list::: record_count : 123800 ::: total : 38757048\n",
      "../../data_Q4_2019/2019-11-06.csv added to master_list::: record_count : 118918 ::: total : 38875966\n",
      "../../data_Q4_2019/2019-11-12.csv added to master_list::: record_count : 120137 ::: total : 38996103\n",
      "../../data_Q4_2019/2019-11-13.csv added to master_list::: record_count : 121297 ::: total : 39117400\n",
      "../../data_Q4_2019/2019-11-07.csv added to master_list::: record_count : 118920 ::: total : 39236320\n",
      "../../data_Q4_2019/2019-11-11.csv added to master_list::: record_count : 120135 ::: total : 39356455\n",
      "../../data_Q4_2019/2019-11-05.csv added to master_list::: record_count : 55980 ::: total : 39412435\n",
      "../../data_Q4_2019/2019-11-04.csv added to master_list::: record_count : 118917 ::: total : 39531352\n",
      "../../data_Q4_2019/2019-11-10.csv added to master_list::: record_count : 118918 ::: total : 39650270\n",
      "../../data_Q4_2019/2019-11-14.csv added to master_list::: record_count : 121358 ::: total : 39771628\n",
      "../../data_Q4_2019/2019-11-28.csv added to master_list::: record_count : 122578 ::: total : 39894206\n",
      "../../data_Q4_2019/2019-11-29.csv added to master_list::: record_count : 122577 ::: total : 40016783\n",
      "../../data_Q4_2019/2019-11-01.csv added to master_list::: record_count : 118919 ::: total : 40135702\n",
      "../../data_Q4_2019/2019-11-15.csv added to master_list::: record_count : 121358 ::: total : 40257060\n",
      "../../data_Q4_2019/2019-11-03.csv added to master_list::: record_count : 118919 ::: total : 40375979\n",
      "../../data_Q4_2019/2019-11-17.csv added to master_list::: record_count : 121293 ::: total : 40497272\n",
      "../../data_Q4_2019/2019-11-16.csv added to master_list::: record_count : 121356 ::: total : 40618628\n",
      "../../data_Q4_2019/2019-11-02.csv added to master_list::: record_count : 118918 ::: total : 40737546\n"
     ]
    }
   ],
   "source": [
    "# iterate over each file and drop the unwanted columns\n",
    "for file_name in files:\n",
    "    data = pd.read_csv(file_name)\n",
    "    total += data.shape[0]\n",
    "    print(\"{} added to master_list::: record_count : {} ::: total : {}\".format(file_name, data.shape[0], total))    "
   ]
  },
  {
   "cell_type": "code",
   "execution_count": 7,
   "metadata": {},
   "outputs": [
    {
     "data": {
      "text/plain": [
       "2357344"
      ]
     },
     "execution_count": 7,
     "metadata": {},
     "output_type": "execute_result"
    }
   ],
   "source": [
    "total"
   ]
  },
  {
   "cell_type": "code",
   "execution_count": null,
   "metadata": {},
   "outputs": [],
   "source": []
  }
 ],
 "metadata": {
  "kernelspec": {
   "display_name": "Python 3 (ipykernel)",
   "language": "python",
   "name": "python3"
  },
  "language_info": {
   "codemirror_mode": {
    "name": "ipython",
    "version": 3
   },
   "file_extension": ".py",
   "mimetype": "text/x-python",
   "name": "python",
   "nbconvert_exporter": "python",
   "pygments_lexer": "ipython3",
   "version": "3.12.2"
  }
 },
 "nbformat": 4,
 "nbformat_minor": 4
}
